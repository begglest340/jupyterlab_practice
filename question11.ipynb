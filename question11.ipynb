{
 "cells": [
  {
   "cell_type": "markdown",
   "id": "7c3b3ff5-1623-44ef-8563-8ddc1192b5c2",
   "metadata": {},
   "source": [
    "# Brandon Eggleston\n",
    "Notebook for assignment 7"
   ]
  },
  {
   "cell_type": "code",
   "execution_count": 4,
   "id": "a9f5e7e6-4e92-439c-86c8-b1bd98111ee7",
   "metadata": {
    "tags": []
   },
   "outputs": [
    {
     "data": {
      "text/plain": [
       "5.0"
      ]
     },
     "execution_count": 4,
     "metadata": {},
     "output_type": "execute_result"
    }
   ],
   "source": [
    "def compute_mean(number_list):\n",
    "    total = 0\n",
    "    count = 0\n",
    "    for number in number_list:\n",
    "        total += number\n",
    "        count += 1\n",
    "    return total/count\n",
    "\n",
    "compute_mean([2,4,6,8])"
   ]
  },
  {
   "cell_type": "markdown",
   "id": "78f07a0d-2b4e-4d9e-ac57-99a62469eace",
   "metadata": {},
   "source": [
    "The function compute_mean calculates the average of a list of numbers given as an argument.\n",
    "$$\n",
    "\\begin{aligned}\n",
    "\\bar{x} = \\frac{x_1 + x_2 + ... + x_n}{n} = \\frac{1}{n} \\left( \\sum_{i = 1}^n x_i \\right)\n",
    "\\end{aligned}\n",
    "$$"
   ]
  }
 ],
 "metadata": {
  "kernelspec": {
   "display_name": "Python 3 (ipykernel)",
   "language": "python",
   "name": "python3"
  },
  "language_info": {
   "codemirror_mode": {
    "name": "ipython",
    "version": 3
   },
   "file_extension": ".py",
   "mimetype": "text/x-python",
   "name": "python",
   "nbconvert_exporter": "python",
   "pygments_lexer": "ipython3",
   "version": "3.10.10"
  }
 },
 "nbformat": 4,
 "nbformat_minor": 5
}
